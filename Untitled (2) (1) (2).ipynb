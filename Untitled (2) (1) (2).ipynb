{
 "cells": [
  {
   "cell_type": "code",
   "execution_count": 1,
   "metadata": {},
   "outputs": [
    {
     "name": "stdout",
     "output_type": "stream",
     "text": [
      "Requirement already satisfied: nltk in c:\\users\\admin\\anaconda3\\lib\\site-packages (3.7)\n",
      "Requirement already satisfied: click in c:\\users\\admin\\anaconda3\\lib\\site-packages (from nltk) (8.0.4)\n",
      "Requirement already satisfied: joblib in c:\\users\\admin\\anaconda3\\lib\\site-packages (from nltk) (1.2.0)\n",
      "Requirement already satisfied: regex>=2021.8.3 in c:\\users\\admin\\anaconda3\\lib\\site-packages (from nltk) (2022.7.9)\n",
      "Requirement already satisfied: tqdm in c:\\users\\admin\\anaconda3\\lib\\site-packages (from nltk) (4.65.0)\n",
      "Requirement already satisfied: colorama in c:\\users\\admin\\anaconda3\\lib\\site-packages (from click->nltk) (0.4.6)\n",
      "Note: you may need to restart the kernel to use updated packages.\n"
     ]
    }
   ],
   "source": [
    "pip install nltk\n"
   ]
  },
  {
   "cell_type": "code",
   "execution_count": 2,
   "metadata": {},
   "outputs": [],
   "source": [
    "import time\n",
    "import numpy as np\n",
    "import pandas as pd\n",
    "from sklearn.ensemble import RandomForestClassifier\n",
    "from sklearn.metrics import accuracy_score, f1_score, recall_score, precision_score\n",
    "from joblib import dump, load"
   ]
  },
  {
   "cell_type": "code",
   "execution_count": 3,
   "metadata": {
    "id": "DqIWaTEgW4yz"
   },
   "outputs": [
    {
     "name": "stdout",
     "output_type": "stream",
     "text": [
      "   commentsCount  isSponsored  likesCount  \\\n",
      "0              0            0           0   \n",
      "1              0            0           3   \n",
      "2              0            0           2   \n",
      "3              0            0           0   \n",
      "4              0            0           0   \n",
      "\n",
      "                                        locationName     type  videoViewCount  \\\n",
      "0                          Glastonbury Tor, Somerset    Image               0   \n",
      "1  Ramakrishna Mission Vivekananda University-Ent...    Image               0   \n",
      "2                                           247 Park    Image               0   \n",
      "3                                                 浅草  Sidecar               0   \n",
      "4                                                  0    Image               0   \n",
      "\n",
      "   likesCount30days  commentsCount30days  Number of Hashtags hashtagsUsed  \\\n",
      "0                36                    1                  31    landscape   \n",
      "1               128                    4                  31        goals   \n",
      "2                58                    3                  31         swag   \n",
      "3                 0                    0                  31    landscape   \n",
      "4               137                    0                  31         swag   \n",
      "\n",
      "   ...  #animetattoo  #coronarender  #jewelrydesigner  #natur  #psychology  \\\n",
      "0  ...             0              0                 0       0            0   \n",
      "1  ...             0              0                 0       0            0   \n",
      "2  ...             0              0                 0       0            0   \n",
      "3  ...             0              0                 0       0            0   \n",
      "4  ...             0              0                 0       0            0   \n",
      "\n",
      "   #beard  #ａｅｓｔｈｅｔｉｃ  #invest  #indianfashion  #outfitinspo  \n",
      "0       0           0        0               0             0  \n",
      "1       0           0        0               0             0  \n",
      "2       0           0        0               0             0  \n",
      "3       0           0        0               0             0  \n",
      "4       0           0        0               0             0  \n",
      "\n",
      "[5 rows x 1018 columns]\n",
      "(36357, 1018)\n"
     ]
    }
   ],
   "source": [
    "# Load the one-hot encoded DataFrame from the CSV file\n",
    "df_encoded = pd.read_csv('onehot.csv')\n",
    "\n",
    "# Display the first few rows of the DataFrame\n",
    "print(df_encoded.head())\n",
    "\n",
    "# Print the shape of the DataFrame\n",
    "print(df_encoded.shape)\n"
   ]
  },
  {
   "cell_type": "code",
   "execution_count": 4,
   "metadata": {
    "id": "QfM0YiP9W56T"
   },
   "outputs": [
    {
     "name": "stdout",
     "output_type": "stream",
     "text": [
      "commentsCount      int64\n",
      "isSponsored        int64\n",
      "likesCount         int64\n",
      "locationName      object\n",
      "type              object\n",
      "                   ...  \n",
      "#beard             int64\n",
      "#ａｅｓｔｈｅｔｉｃ         int64\n",
      "#invest            int64\n",
      "#indianfashion     int64\n",
      "#outfitinspo       int64\n",
      "Length: 1018, dtype: object\n"
     ]
    }
   ],
   "source": [
    "print(df_encoded.dtypes)\n"
   ]
  },
  {
   "cell_type": "code",
   "execution_count": 5,
   "metadata": {
    "id": "7k4EaCMpW9zl"
   },
   "outputs": [
    {
     "name": "stdout",
     "output_type": "stream",
     "text": [
      "<class 'pandas.core.frame.DataFrame'>\n",
      "RangeIndex: 36357 entries, 0 to 36356\n",
      "Columns: 1018 entries, commentsCount to #outfitinspo\n",
      "dtypes: int64(1015), object(3)\n",
      "memory usage: 282.4+ MB\n"
     ]
    },
    {
     "data": {
      "text/html": [
       "<div>\n",
       "<style scoped>\n",
       "    .dataframe tbody tr th:only-of-type {\n",
       "        vertical-align: middle;\n",
       "    }\n",
       "\n",
       "    .dataframe tbody tr th {\n",
       "        vertical-align: top;\n",
       "    }\n",
       "\n",
       "    .dataframe thead th {\n",
       "        text-align: right;\n",
       "    }\n",
       "</style>\n",
       "<table border=\"1\" class=\"dataframe\">\n",
       "  <thead>\n",
       "    <tr style=\"text-align: right;\">\n",
       "      <th></th>\n",
       "      <th>commentsCount</th>\n",
       "      <th>isSponsored</th>\n",
       "      <th>likesCount</th>\n",
       "      <th>videoViewCount</th>\n",
       "      <th>likesCount30days</th>\n",
       "      <th>commentsCount30days</th>\n",
       "      <th>Number of Hashtags</th>\n",
       "      <th>year</th>\n",
       "      <th>month</th>\n",
       "      <th>day</th>\n",
       "      <th>...</th>\n",
       "      <th>#animetattoo</th>\n",
       "      <th>#coronarender</th>\n",
       "      <th>#jewelrydesigner</th>\n",
       "      <th>#natur</th>\n",
       "      <th>#psychology</th>\n",
       "      <th>#beard</th>\n",
       "      <th>#ａｅｓｔｈｅｔｉｃ</th>\n",
       "      <th>#invest</th>\n",
       "      <th>#indianfashion</th>\n",
       "      <th>#outfitinspo</th>\n",
       "    </tr>\n",
       "  </thead>\n",
       "  <tbody>\n",
       "    <tr>\n",
       "      <th>count</th>\n",
       "      <td>36357.000000</td>\n",
       "      <td>36357.0</td>\n",
       "      <td>36357.000000</td>\n",
       "      <td>36357.000000</td>\n",
       "      <td>36357.000000</td>\n",
       "      <td>36357.000000</td>\n",
       "      <td>36357.000000</td>\n",
       "      <td>36357.000000</td>\n",
       "      <td>36357.000000</td>\n",
       "      <td>36357.000000</td>\n",
       "      <td>...</td>\n",
       "      <td>36357.0</td>\n",
       "      <td>36357.0</td>\n",
       "      <td>36357.0</td>\n",
       "      <td>36357.0</td>\n",
       "      <td>36357.0</td>\n",
       "      <td>36357.0</td>\n",
       "      <td>36357.0</td>\n",
       "      <td>36357.0</td>\n",
       "      <td>36357.0</td>\n",
       "      <td>36357.0</td>\n",
       "    </tr>\n",
       "    <tr>\n",
       "      <th>mean</th>\n",
       "      <td>1.566741</td>\n",
       "      <td>0.0</td>\n",
       "      <td>12.700223</td>\n",
       "      <td>0.223533</td>\n",
       "      <td>152.483621</td>\n",
       "      <td>4.704789</td>\n",
       "      <td>31.012102</td>\n",
       "      <td>2023.970130</td>\n",
       "      <td>2.121435</td>\n",
       "      <td>16.477900</td>\n",
       "      <td>...</td>\n",
       "      <td>0.0</td>\n",
       "      <td>0.0</td>\n",
       "      <td>0.0</td>\n",
       "      <td>0.0</td>\n",
       "      <td>0.0</td>\n",
       "      <td>0.0</td>\n",
       "      <td>0.0</td>\n",
       "      <td>0.0</td>\n",
       "      <td>0.0</td>\n",
       "      <td>0.0</td>\n",
       "    </tr>\n",
       "    <tr>\n",
       "      <th>std</th>\n",
       "      <td>10.188210</td>\n",
       "      <td>0.0</td>\n",
       "      <td>161.325376</td>\n",
       "      <td>21.161062</td>\n",
       "      <td>2199.612808</td>\n",
       "      <td>25.700497</td>\n",
       "      <td>0.208513</td>\n",
       "      <td>0.282798</td>\n",
       "      <td>0.999957</td>\n",
       "      <td>1.708092</td>\n",
       "      <td>...</td>\n",
       "      <td>0.0</td>\n",
       "      <td>0.0</td>\n",
       "      <td>0.0</td>\n",
       "      <td>0.0</td>\n",
       "      <td>0.0</td>\n",
       "      <td>0.0</td>\n",
       "      <td>0.0</td>\n",
       "      <td>0.0</td>\n",
       "      <td>0.0</td>\n",
       "      <td>0.0</td>\n",
       "    </tr>\n",
       "    <tr>\n",
       "      <th>min</th>\n",
       "      <td>0.000000</td>\n",
       "      <td>0.0</td>\n",
       "      <td>0.000000</td>\n",
       "      <td>0.000000</td>\n",
       "      <td>0.000000</td>\n",
       "      <td>0.000000</td>\n",
       "      <td>31.000000</td>\n",
       "      <td>2017.000000</td>\n",
       "      <td>1.000000</td>\n",
       "      <td>1.000000</td>\n",
       "      <td>...</td>\n",
       "      <td>0.0</td>\n",
       "      <td>0.0</td>\n",
       "      <td>0.0</td>\n",
       "      <td>0.0</td>\n",
       "      <td>0.0</td>\n",
       "      <td>0.0</td>\n",
       "      <td>0.0</td>\n",
       "      <td>0.0</td>\n",
       "      <td>0.0</td>\n",
       "      <td>0.0</td>\n",
       "    </tr>\n",
       "    <tr>\n",
       "      <th>25%</th>\n",
       "      <td>0.000000</td>\n",
       "      <td>0.0</td>\n",
       "      <td>0.000000</td>\n",
       "      <td>0.000000</td>\n",
       "      <td>1.000000</td>\n",
       "      <td>0.000000</td>\n",
       "      <td>31.000000</td>\n",
       "      <td>2024.000000</td>\n",
       "      <td>2.000000</td>\n",
       "      <td>16.000000</td>\n",
       "      <td>...</td>\n",
       "      <td>0.0</td>\n",
       "      <td>0.0</td>\n",
       "      <td>0.0</td>\n",
       "      <td>0.0</td>\n",
       "      <td>0.0</td>\n",
       "      <td>0.0</td>\n",
       "      <td>0.0</td>\n",
       "      <td>0.0</td>\n",
       "      <td>0.0</td>\n",
       "      <td>0.0</td>\n",
       "    </tr>\n",
       "    <tr>\n",
       "      <th>50%</th>\n",
       "      <td>0.000000</td>\n",
       "      <td>0.0</td>\n",
       "      <td>1.000000</td>\n",
       "      <td>0.000000</td>\n",
       "      <td>10.000000</td>\n",
       "      <td>0.000000</td>\n",
       "      <td>31.000000</td>\n",
       "      <td>2024.000000</td>\n",
       "      <td>2.000000</td>\n",
       "      <td>17.000000</td>\n",
       "      <td>...</td>\n",
       "      <td>0.0</td>\n",
       "      <td>0.0</td>\n",
       "      <td>0.0</td>\n",
       "      <td>0.0</td>\n",
       "      <td>0.0</td>\n",
       "      <td>0.0</td>\n",
       "      <td>0.0</td>\n",
       "      <td>0.0</td>\n",
       "      <td>0.0</td>\n",
       "      <td>0.0</td>\n",
       "    </tr>\n",
       "    <tr>\n",
       "      <th>75%</th>\n",
       "      <td>1.000000</td>\n",
       "      <td>0.0</td>\n",
       "      <td>4.000000</td>\n",
       "      <td>0.000000</td>\n",
       "      <td>44.000000</td>\n",
       "      <td>2.000000</td>\n",
       "      <td>31.000000</td>\n",
       "      <td>2024.000000</td>\n",
       "      <td>2.000000</td>\n",
       "      <td>17.000000</td>\n",
       "      <td>...</td>\n",
       "      <td>0.0</td>\n",
       "      <td>0.0</td>\n",
       "      <td>0.0</td>\n",
       "      <td>0.0</td>\n",
       "      <td>0.0</td>\n",
       "      <td>0.0</td>\n",
       "      <td>0.0</td>\n",
       "      <td>0.0</td>\n",
       "      <td>0.0</td>\n",
       "      <td>0.0</td>\n",
       "    </tr>\n",
       "    <tr>\n",
       "      <th>max</th>\n",
       "      <td>421.000000</td>\n",
       "      <td>0.0</td>\n",
       "      <td>10149.000000</td>\n",
       "      <td>3206.000000</td>\n",
       "      <td>224442.000000</td>\n",
       "      <td>1583.000000</td>\n",
       "      <td>55.000000</td>\n",
       "      <td>2024.000000</td>\n",
       "      <td>12.000000</td>\n",
       "      <td>31.000000</td>\n",
       "      <td>...</td>\n",
       "      <td>0.0</td>\n",
       "      <td>0.0</td>\n",
       "      <td>0.0</td>\n",
       "      <td>0.0</td>\n",
       "      <td>0.0</td>\n",
       "      <td>0.0</td>\n",
       "      <td>0.0</td>\n",
       "      <td>0.0</td>\n",
       "      <td>0.0</td>\n",
       "      <td>0.0</td>\n",
       "    </tr>\n",
       "  </tbody>\n",
       "</table>\n",
       "<p>8 rows × 1015 columns</p>\n",
       "</div>"
      ],
      "text/plain": [
       "       commentsCount  isSponsored    likesCount  videoViewCount  \\\n",
       "count   36357.000000      36357.0  36357.000000    36357.000000   \n",
       "mean        1.566741          0.0     12.700223        0.223533   \n",
       "std        10.188210          0.0    161.325376       21.161062   \n",
       "min         0.000000          0.0      0.000000        0.000000   \n",
       "25%         0.000000          0.0      0.000000        0.000000   \n",
       "50%         0.000000          0.0      1.000000        0.000000   \n",
       "75%         1.000000          0.0      4.000000        0.000000   \n",
       "max       421.000000          0.0  10149.000000     3206.000000   \n",
       "\n",
       "       likesCount30days  commentsCount30days  Number of Hashtags  \\\n",
       "count      36357.000000         36357.000000        36357.000000   \n",
       "mean         152.483621             4.704789           31.012102   \n",
       "std         2199.612808            25.700497            0.208513   \n",
       "min            0.000000             0.000000           31.000000   \n",
       "25%            1.000000             0.000000           31.000000   \n",
       "50%           10.000000             0.000000           31.000000   \n",
       "75%           44.000000             2.000000           31.000000   \n",
       "max       224442.000000          1583.000000           55.000000   \n",
       "\n",
       "               year         month           day  ...  #animetattoo  \\\n",
       "count  36357.000000  36357.000000  36357.000000  ...       36357.0   \n",
       "mean    2023.970130      2.121435     16.477900  ...           0.0   \n",
       "std        0.282798      0.999957      1.708092  ...           0.0   \n",
       "min     2017.000000      1.000000      1.000000  ...           0.0   \n",
       "25%     2024.000000      2.000000     16.000000  ...           0.0   \n",
       "50%     2024.000000      2.000000     17.000000  ...           0.0   \n",
       "75%     2024.000000      2.000000     17.000000  ...           0.0   \n",
       "max     2024.000000     12.000000     31.000000  ...           0.0   \n",
       "\n",
       "       #coronarender  #jewelrydesigner   #natur  #psychology   #beard  \\\n",
       "count        36357.0           36357.0  36357.0      36357.0  36357.0   \n",
       "mean             0.0               0.0      0.0          0.0      0.0   \n",
       "std              0.0               0.0      0.0          0.0      0.0   \n",
       "min              0.0               0.0      0.0          0.0      0.0   \n",
       "25%              0.0               0.0      0.0          0.0      0.0   \n",
       "50%              0.0               0.0      0.0          0.0      0.0   \n",
       "75%              0.0               0.0      0.0          0.0      0.0   \n",
       "max              0.0               0.0      0.0          0.0      0.0   \n",
       "\n",
       "       #ａｅｓｔｈｅｔｉｃ  #invest  #indianfashion  #outfitinspo  \n",
       "count     36357.0  36357.0         36357.0       36357.0  \n",
       "mean          0.0      0.0             0.0           0.0  \n",
       "std           0.0      0.0             0.0           0.0  \n",
       "min           0.0      0.0             0.0           0.0  \n",
       "25%           0.0      0.0             0.0           0.0  \n",
       "50%           0.0      0.0             0.0           0.0  \n",
       "75%           0.0      0.0             0.0           0.0  \n",
       "max           0.0      0.0             0.0           0.0  \n",
       "\n",
       "[8 rows x 1015 columns]"
      ]
     },
     "execution_count": 5,
     "metadata": {},
     "output_type": "execute_result"
    }
   ],
   "source": [
    "# prompt: describe\n",
    "\n",
    "# Print the general information about the DataFrame\n",
    "df_encoded.info()\n",
    "\n",
    "# Print the summary statistics of the numerical columns\n",
    "df_encoded.describe()\n"
   ]
  },
  {
   "cell_type": "code",
   "execution_count": 6,
   "metadata": {
    "id": "eidN7IhiXB1O"
   },
   "outputs": [
    {
     "name": "stdout",
     "output_type": "stream",
     "text": [
      "['locationName', 'type', 'hashtagsUsed']\n"
     ]
    }
   ],
   "source": [
    "# prompt: excess all column with datatype object\n",
    "\n",
    "object_cols = [col for col in df_encoded.columns if df_encoded[col].dtype == \"object\"]\n",
    "print(object_cols)\n"
   ]
  },
  {
   "cell_type": "code",
   "execution_count": 7,
   "metadata": {
    "id": "Sc_3KG0WXCt9"
   },
   "outputs": [],
   "source": [
    "df_encoded.drop(['locationName', 'type', 'hashtagsUsed'], axis=1, inplace=True)\n"
   ]
  },
  {
   "cell_type": "code",
   "execution_count": 8,
   "metadata": {
    "id": "3Hp5uK_3XGZc"
   },
   "outputs": [
    {
     "name": "stdout",
     "output_type": "stream",
     "text": [
      "(36357, 1015)\n"
     ]
    }
   ],
   "source": [
    "print(df_encoded.shape)"
   ]
  },
  {
   "cell_type": "code",
   "execution_count": 9,
   "metadata": {
    "id": "MEga_-ZSXNyu"
   },
   "outputs": [],
   "source": [
    "# Features (X)\n",
    "X = df_encoded.drop(columns=['likesCount30days', 'commentsCount30days'])\n",
    "\n",
    "# Target variables (y)\n",
    "y_likes = df_encoded['likesCount30days']\n",
    "y_comments = df_encoded['commentsCount30days']\n"
   ]
  },
  {
   "cell_type": "code",
   "execution_count": 10,
   "metadata": {
    "id": "kNiYfBrVXPsl"
   },
   "outputs": [],
   "source": [
    "from sklearn.model_selection import train_test_split\n",
    "# Splitting the data into training and testing sets\n",
    "X_train, X_test, y_likes_train, y_likes_test = train_test_split(X, y_likes, test_size=0.2, random_state=42)\n",
    "X_train, X_test, y_comments_train, y_comments_test = train_test_split(X, y_comments, test_size=0.2, random_state=42)\n"
   ]
  },
  {
   "cell_type": "code",
   "execution_count": 11,
   "metadata": {},
   "outputs": [],
   "source": [
    "from sklearn.ensemble import RandomForestRegressor\n",
    "# Train the Random Forest model for likes\n",
    "start_time = time.time()\n",
    "rf_model_likes = RandomForestRegressor(n_estimators=100, max_depth=10, random_state=42)\n",
    "rf_model_likes.fit(X_train, y_likes_train)\n",
    "train_time_likes = time.time() - start_time"
   ]
  },
  {
   "cell_type": "code",
   "execution_count": 12,
   "metadata": {},
   "outputs": [],
   "source": [
    "# Predict on training and testing data for likes\n",
    "y_likes_pred_train = rf_model_likes.predict(X_train)\n",
    "y_likes_pred_test = rf_model_likes.predict(X_test)\n"
   ]
  },
  {
   "cell_type": "code",
   "execution_count": 13,
   "metadata": {},
   "outputs": [],
   "source": [
    "from sklearn.metrics import r2_score\n",
    "# Calculate R-squared score for likes\n",
    "r2_likes_train = r2_score(y_likes_train, y_likes_pred_train)\n",
    "r2_likes_test = r2_score(y_likes_test, y_likes_pred_test)\n"
   ]
  },
  {
   "cell_type": "code",
   "execution_count": 14,
   "metadata": {},
   "outputs": [
    {
     "name": "stdout",
     "output_type": "stream",
     "text": [
      "Random Forest - Likes Prediction:\n",
      "R-squared score on training data: 0.7737459932298582\n",
      "R-squared score on testing data: -1.9029820065702894\n",
      "Training Time: 10.690637588500977\n",
      "\n"
     ]
    }
   ],
   "source": [
    "print(\"Random Forest - Likes Prediction:\")\n",
    "print(f\"R-squared score on training data: {r2_likes_train}\")\n",
    "print(f\"R-squared score on testing data: {r2_likes_test}\")\n",
    "print(f\"Training Time: {train_time_likes}\\n\")\n"
   ]
  },
  {
   "cell_type": "code",
   "execution_count": 15,
   "metadata": {},
   "outputs": [
    {
     "data": {
      "text/plain": [
       "['random_forest_likes_model.pkl']"
      ]
     },
     "execution_count": 15,
     "metadata": {},
     "output_type": "execute_result"
    }
   ],
   "source": [
    "# Save the Random Forest model for likes\n",
    "dump(rf_model_likes, 'random_forest_likes_model.pkl')\n"
   ]
  },
  {
   "cell_type": "code",
   "execution_count": 16,
   "metadata": {},
   "outputs": [],
   "source": [
    "# Train the Random Forest model for comments\n",
    "start_time = time.time()\n",
    "rf_model_comments = RandomForestRegressor(n_estimators=100, max_depth=10, random_state=42)\n",
    "rf_model_comments.fit(X_train, y_comments_train)\n",
    "train_time_comments = time.time() - start_time"
   ]
  },
  {
   "cell_type": "code",
   "execution_count": 17,
   "metadata": {},
   "outputs": [],
   "source": [
    "# Predict on training and testing data for comments\n",
    "y_comments_pred_train = rf_model_comments.predict(X_train)\n",
    "y_comments_pred_test = rf_model_comments.predict(X_test)\n"
   ]
  },
  {
   "cell_type": "code",
   "execution_count": 30,
   "metadata": {},
   "outputs": [
    {
     "name": "stdout",
     "output_type": "stream",
     "text": [
      "Random Forest - Comments Prediction:\n",
      "R-squared score on training data: 0.7571227442969136\n",
      "R-squared score on testing data: 0.350329533250172\n",
      "Training Time: 12.473031044006348\n",
      "\n"
     ]
    }
   ],
   "source": [
    "# Calculate R-squared score for comments\n",
    "r2_comments_train = r2_score(y_comments_train, y_comments_pred_train)\n",
    "r2_comments_test = r2_score(y_comments_test, y_comments_pred_test)\n",
    "\n",
    "print(\"Random Forest - Comments Prediction:\")\n",
    "print(f\"R-squared score on training data: {r2_comments_train}\")\n",
    "print(f\"R-squared score on testing data: {r2_comments_test}\")\n",
    "print(f\"Training Time: {train_time_comments}\\n\")"
   ]
  },
  {
   "cell_type": "code",
   "execution_count": 18,
   "metadata": {},
   "outputs": [
    {
     "data": {
      "text/plain": [
       "['random_forest_comments_model.pkl']"
      ]
     },
     "execution_count": 18,
     "metadata": {},
     "output_type": "execute_result"
    }
   ],
   "source": [
    "# Save the Random Forest model for comments\n",
    "dump(rf_model_comments, 'random_forest_comments_model.pkl')"
   ]
  },
  {
   "cell_type": "code",
   "execution_count": 19,
   "metadata": {},
   "outputs": [],
   "source": [
    "# Load the saved Random Forest models\n",
    "rf_model_likes = load('random_forest_likes_model.pkl')\n",
    "rf_model_comments = load('random_forest_comments_model.pkl')\n"
   ]
  },
  {
   "cell_type": "code",
   "execution_count": 20,
   "metadata": {},
   "outputs": [],
   "source": [
    "# Prepare the input data for prediction\n",
    "location_name_encoded = 0\n",
    "year = 2024\n",
    "month = 4\n",
    "day = 1\n",
    "hour = 9\n",
    "minute = 11\n",
    "second = 7\n",
    "type_encoded = 0"
   ]
  },
  {
   "cell_type": "code",
   "execution_count": 21,
   "metadata": {},
   "outputs": [],
   "source": [
    "# Initialize with zeros for all features\n",
    "input_data = np.zeros(X.shape[1])"
   ]
  },
  {
   "cell_type": "code",
   "execution_count": 22,
   "metadata": {},
   "outputs": [],
   "source": [
    "# Set specific values based on the given parameters\n",
    "input_data[X.columns.get_loc('locationName_encoded')] = 0  # Assuming one-hot encoded\n",
    "input_data[X.columns.get_loc('type_encoded')] = 0  # Assuming one-hot encoded\n",
    "input_data[X.columns.get_loc('year')] = year\n",
    "input_data[X.columns.get_loc('month')] = month\n",
    "input_data[X.columns.get_loc('day')] = day\n",
    "input_data[X.columns.get_loc('hour')] = hour\n",
    "input_data[X.columns.get_loc('minute')] = minute\n",
    "input_data[X.columns.get_loc('second')] = second"
   ]
  },
  {
   "cell_type": "code",
   "execution_count": 23,
   "metadata": {},
   "outputs": [],
   "source": [
    "# Reshape input_data to match model input shape\n",
    "input_data = input_data.reshape(1, -1)\n"
   ]
  },
  {
   "cell_type": "code",
   "execution_count": 24,
   "metadata": {},
   "outputs": [],
   "source": [
    "# Convert input_data to DataFrame with appropriate feature names\n",
    "input_df = pd.DataFrame(input_data, columns=X.columns)\n"
   ]
  },
  {
   "cell_type": "code",
   "execution_count": 25,
   "metadata": {},
   "outputs": [],
   "source": [
    "# Predict virality (likes and comments count) for the given post\n",
    "virality_likes = rf_model_likes.predict(input_df)\n",
    "virality_comments = rf_model_comments.predict(input_df)\n"
   ]
  },
  {
   "cell_type": "code",
   "execution_count": 26,
   "metadata": {},
   "outputs": [
    {
     "name": "stdout",
     "output_type": "stream",
     "text": [
      "Possibility of post going viral: 70.74289703116449\n"
     ]
    }
   ],
   "source": [
    "print(\"Possibility of post going viral:\", virality_likes[0])\n",
    "# print(\"Predicted comments count after 30 days:\", virality_comments[0])"
   ]
  },
  {
   "cell_type": "code",
   "execution_count": 27,
   "metadata": {},
   "outputs": [],
   "source": [
    "# Get feature importances\n",
    "feature_importances_likes = rf_model_likes.feature_importances_\n",
    "feature_importances_comments = rf_model_comments.feature_importances_\n",
    "\n",
    "# Create DataFrames for better visualization\n",
    "feature_importances_df_likes = pd.DataFrame({\n",
    "    'feature': X.columns,\n",
    "    'importance': feature_importances_likes\n",
    "}).sort_values(by='importance', ascending=False)\n",
    "\n",
    "feature_importances_df_comments = pd.DataFrame({\n",
    "    'feature': X.columns,\n",
    "    'importance': feature_importances_comments\n",
    "}).sort_values(by='importance', ascending=False)"
   ]
  },
  {
   "cell_type": "code",
   "execution_count": 28,
   "metadata": {},
   "outputs": [
    {
     "data": {
      "image/png": "[encoded data removed]",
      "text/plain": [
       "<Figure size 1200x600 with 1 Axes>"
      ]
     },
     "metadata": {},
     "output_type": "display_data"
    }
   ],
   "source": [
    "import matplotlib.pyplot as plt\n",
    "\n",
    "# Slice the dataframe to include only the first 15 rows\n",
    "top_15_features = feature_importances_df_likes.iloc[:15]\n",
    "\n",
    "# Plot feature importances for likes prediction\n",
    "plt.figure(figsize=(12, 6))\n",
    "plt.barh(top_15_features['feature'], top_15_features['importance'])\n",
    "plt.xlabel('Importance')\n",
    "plt.ylabel('Feature')\n",
    "plt.title('Feature Importances for Likes Prediction (Top 15)')\n",
    "plt.gca().invert_yaxis()\n",
    "plt.show()\n"
   ]
  },
  {
   "cell_type": "code",
   "execution_count": 29,
   "metadata": {},
   "outputs": [
    {
     "data": {
      "image/png": "[encoded data removed]",
      "text/plain": [
       "<Figure size 1200x600 with 1 Axes>"
      ]
     },
     "metadata": {},
     "output_type": "display_data"
    }
   ],
   "source": [
    "import matplotlib.pyplot as plt\n",
    "\n",
    "# Slice the dataframe to include only the first 15 rows\n",
    "top_15_features_comments = feature_importances_df_comments.iloc[:15]\n",
    "\n",
    "# Plot feature importances for comments prediction\n",
    "plt.figure(figsize=(12, 6))\n",
    "plt.barh(top_15_features_comments['feature'], top_15_features_comments['importance'])\n",
    "plt.xlabel('Importance')\n",
    "plt.ylabel('Feature')\n",
    "plt.title('Feature Importances for Comments Prediction (Top 15)')\n",
    "plt.gca().invert_yaxis()\n",
    "plt.show()\n"
   ]
  },
  {
   "cell_type": "code",
   "execution_count": null,
   "metadata": {},
   "outputs": [],
   "source": []
  },
  {
   "cell_type": "code",
   "execution_count": null,
   "metadata": {},
   "outputs": [],
   "source": []
  }
 ],
 "metadata": {
  "colab": {
   "provenance": []
  },
  "kernelspec": {
   "display_name": "Python 3 (ipykernel)",
   "language": "python",
   "name": "python3"
  },
  "language_info": {
   "codemirror_mode": {
    "name": "ipython",
    "version": 3
   },
   "file_extension": ".py",
   "mimetype": "text/x-python",
   "name": "python",
   "nbconvert_exporter": "python",
   "pygments_lexer": "ipython3",
   "version": "3.11.3"
  }
 },
 "nbformat": 4,
 "nbformat_minor": 1
}
